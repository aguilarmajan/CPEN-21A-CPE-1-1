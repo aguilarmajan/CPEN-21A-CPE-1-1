{
  "nbformat": 4,
  "nbformat_minor": 0,
  "metadata": {
    "colab": {
      "name": "Midterm Exam.ipynb",
      "provenance": [],
      "authorship_tag": "ABX9TyPXPrSo1L8NgFw8NXMjAc/o",
      "include_colab_link": true
    },
    "kernelspec": {
      "name": "python3",
      "display_name": "Python 3"
    },
    "language_info": {
      "name": "python"
    }
  },
  "cells": [
    {
      "cell_type": "markdown",
      "metadata": {
        "id": "view-in-github",
        "colab_type": "text"
      },
      "source": [
        "<a href=\"https://colab.research.google.com/github/aguilarmajan/CPEN-21A-CPE-1-1/blob/main/Midterm_Exam.ipynb\" target=\"_parent\"><img src=\"https://colab.research.google.com/assets/colab-badge.svg\" alt=\"Open In Colab\"/></a>"
      ]
    },
    {
      "cell_type": "markdown",
      "metadata": {
        "id": "ltUeUQFjhcZ7"
      },
      "source": [
        "### Midterm Exam"
      ]
    },
    {
      "cell_type": "markdown",
      "metadata": {
        "id": "eiuB-1N3r14h"
      },
      "source": [
        "## Problem Statement 1."
      ]
    },
    {
      "cell_type": "code",
      "metadata": {
        "colab": {
          "base_uri": "https://localhost:8080/"
        },
        "id": "Vx8hqFqUhrZP",
        "outputId": "5a233415-7e7f-49aa-ff89-5ee3ec0a0906"
      },
      "source": [
        "Fullname,Studentnumber,Age,Birthday,Address,Course,LastSemGWA = \"Full Name: Aron Majan Beaton Aguilar\",\"Student Number: 202102283\",\"Age: 18\",\"Birthday: November 19, 2002\",\"Address: Lalaan 2nd Silang, Cavite\",\"Course: BSCpE 1-1\",\"Last Sem Average: 95\"\n",
        "print (Fullname)\n",
        "print (Studentnumber)\n",
        "print (Age)\n",
        "print (Birthday)\n",
        "print (Address)\n",
        "print (Course)\n",
        "print (LastSemGWA)"
      ],
      "execution_count": null,
      "outputs": [
        {
          "output_type": "stream",
          "name": "stdout",
          "text": [
            "Full Name: Aron Majan Beaton Aguilar\n",
            "Student Number: 202102283\n",
            "Age: 18\n",
            "Birthday: November 19, 2002\n",
            "Address: Lalaan 2nd Silang, Cavite\n",
            "Course: BSCpE 1-1\n",
            "Last Sem Average: 95\n"
          ]
        }
      ]
    },
    {
      "cell_type": "markdown",
      "metadata": {
        "id": "mzRJ5zWhr7V4"
      },
      "source": [
        "##Problem Statement 2."
      ]
    },
    {
      "cell_type": "code",
      "metadata": {
        "colab": {
          "base_uri": "https://localhost:8080/"
        },
        "id": "lWLSOmWvwDC0",
        "outputId": "978a1136-bec0-4913-e0a8-a02986029c60"
      },
      "source": [
        "n = 4\n",
        "answ = \"Y\"\n",
        "print (n)\n",
        "print (answ)"
      ],
      "execution_count": null,
      "outputs": [
        {
          "output_type": "stream",
          "name": "stdout",
          "text": [
            "4\n",
            "Y\n"
          ]
        }
      ]
    },
    {
      "cell_type": "markdown",
      "metadata": {
        "id": "_srO6rLjoMk1"
      },
      "source": [
        "###a."
      ]
    },
    {
      "cell_type": "code",
      "metadata": {
        "colab": {
          "base_uri": "https://localhost:8080/"
        },
        "id": "ZZBfxMGEnjpX",
        "outputId": "abc4b9d0-c637-4723-e915-dc5e04725412"
      },
      "source": [
        "(2<n) and (n<6)"
      ],
      "execution_count": null,
      "outputs": [
        {
          "output_type": "execute_result",
          "data": {
            "text/plain": [
              "True"
            ]
          },
          "metadata": {},
          "execution_count": 58
        }
      ]
    },
    {
      "cell_type": "markdown",
      "metadata": {
        "id": "Jxu0c8zAoRpz"
      },
      "source": [
        "###b."
      ]
    },
    {
      "cell_type": "code",
      "metadata": {
        "colab": {
          "base_uri": "https://localhost:8080/"
        },
        "id": "Q7QNSnNXoTFy",
        "outputId": "1bc06d3d-0750-417f-8e58-af4ede355e64"
      },
      "source": [
        "(2<n) or (n==6)"
      ],
      "execution_count": null,
      "outputs": [
        {
          "output_type": "execute_result",
          "data": {
            "text/plain": [
              "True"
            ]
          },
          "metadata": {},
          "execution_count": 59
        }
      ]
    },
    {
      "cell_type": "markdown",
      "metadata": {
        "id": "X9W27NI7pfeV"
      },
      "source": [
        "###c.\n"
      ]
    },
    {
      "cell_type": "code",
      "metadata": {
        "colab": {
          "base_uri": "https://localhost:8080/"
        },
        "id": "aVPbwWlKphUo",
        "outputId": "a6b6d36e-9448-418b-8a12-5270bbed72ca"
      },
      "source": [
        "not(2<n) or (n==6)"
      ],
      "execution_count": null,
      "outputs": [
        {
          "output_type": "execute_result",
          "data": {
            "text/plain": [
              "False"
            ]
          },
          "metadata": {},
          "execution_count": 60
        }
      ]
    },
    {
      "cell_type": "markdown",
      "metadata": {
        "id": "bzZdKtmAp5P5"
      },
      "source": [
        "###d."
      ]
    },
    {
      "cell_type": "code",
      "metadata": {
        "colab": {
          "base_uri": "https://localhost:8080/"
        },
        "id": "e77ueNikp6uK",
        "outputId": "5c11fe53-df59-4cf9-992f-6d563ce307f1"
      },
      "source": [
        "not(a<b)"
      ],
      "execution_count": null,
      "outputs": [
        {
          "output_type": "execute_result",
          "data": {
            "text/plain": [
              "False"
            ]
          },
          "metadata": {},
          "execution_count": 29
        }
      ]
    },
    {
      "cell_type": "markdown",
      "metadata": {
        "id": "FT4Fqd6TqEoD"
      },
      "source": [
        "###e."
      ]
    },
    {
      "cell_type": "code",
      "metadata": {
        "colab": {
          "base_uri": "https://localhost:8080/"
        },
        "id": "-UTr0T7xqGqb",
        "outputId": "370663f0-5ebe-4ba4-dde1-b266a3e87f40"
      },
      "source": [
        "(answ==\"Y\") or (answ==\"y\")"
      ],
      "execution_count": null,
      "outputs": [
        {
          "output_type": "execute_result",
          "data": {
            "text/plain": [
              "True"
            ]
          },
          "metadata": {},
          "execution_count": 61
        }
      ]
    },
    {
      "cell_type": "markdown",
      "metadata": {
        "id": "I6TMNYHlrE2x"
      },
      "source": [
        "###f."
      ]
    },
    {
      "cell_type": "code",
      "metadata": {
        "colab": {
          "base_uri": "https://localhost:8080/"
        },
        "id": "bOdlTESNrGMx",
        "outputId": "d4dff6b2-371d-442f-8593-1195fef15d0e"
      },
      "source": [
        "(answ==\"Y\") and (answ==\"y\")"
      ],
      "execution_count": null,
      "outputs": [
        {
          "output_type": "execute_result",
          "data": {
            "text/plain": [
              "False"
            ]
          },
          "metadata": {},
          "execution_count": 62
        }
      ]
    },
    {
      "cell_type": "markdown",
      "metadata": {
        "id": "dU827OrprGeU"
      },
      "source": [
        "###g."
      ]
    },
    {
      "cell_type": "code",
      "metadata": {
        "colab": {
          "base_uri": "https://localhost:8080/"
        },
        "id": "r64xUyEqrI5I",
        "outputId": "7bb1d4d9-0ed7-43ee-c613-647af335dd29"
      },
      "source": [
        "not(answ==\"y\")"
      ],
      "execution_count": null,
      "outputs": [
        {
          "output_type": "execute_result",
          "data": {
            "text/plain": [
              "True"
            ]
          },
          "metadata": {},
          "execution_count": 63
        }
      ]
    },
    {
      "cell_type": "markdown",
      "metadata": {
        "id": "We_6_nMyrJKq"
      },
      "source": [
        "###h."
      ]
    },
    {
      "cell_type": "code",
      "metadata": {
        "colab": {
          "base_uri": "https://localhost:8080/"
        },
        "id": "0-uu6x4BrL20",
        "outputId": "79038e9a-8fa7-442f-db66-2795b483ccf0"
      },
      "source": [
        "((2<n)) and (n==5+1) or (answ==\"No\")"
      ],
      "execution_count": null,
      "outputs": [
        {
          "output_type": "execute_result",
          "data": {
            "text/plain": [
              "False"
            ]
          },
          "metadata": {},
          "execution_count": 67
        }
      ]
    },
    {
      "cell_type": "markdown",
      "metadata": {
        "id": "Fatc-k6BrMOl"
      },
      "source": [
        "###i."
      ]
    },
    {
      "cell_type": "code",
      "metadata": {
        "colab": {
          "base_uri": "https://localhost:8080/"
        },
        "id": "6nL6M9jprNe4",
        "outputId": "c589e6bb-8e4c-4def-ec34-ec9eae1658c8"
      },
      "source": [
        "((n==2)) and (n==7) or (answ==\"Y\")"
      ],
      "execution_count": null,
      "outputs": [
        {
          "output_type": "execute_result",
          "data": {
            "text/plain": [
              "True"
            ]
          },
          "metadata": {},
          "execution_count": 68
        }
      ]
    },
    {
      "cell_type": "markdown",
      "metadata": {
        "id": "gSQsoCW2rQ12"
      },
      "source": [
        "###j."
      ]
    },
    {
      "cell_type": "code",
      "metadata": {
        "colab": {
          "base_uri": "https://localhost:8080/"
        },
        "id": "F9u74hMLrTmW",
        "outputId": "0b1f83fc-89f7-4673-f235-aef9089cc458"
      },
      "source": [
        "(n==2) and ((n==7)) or (answ==\"Y\")"
      ],
      "execution_count": null,
      "outputs": [
        {
          "output_type": "execute_result",
          "data": {
            "text/plain": [
              "True"
            ]
          },
          "metadata": {},
          "execution_count": 70
        }
      ]
    },
    {
      "cell_type": "markdown",
      "metadata": {
        "id": "VmDTiwb6sBWT"
      },
      "source": [
        "##Problem Statement 3."
      ]
    },
    {
      "cell_type": "code",
      "metadata": {
        "colab": {
          "base_uri": "https://localhost:8080/"
        },
        "id": "d7zXasuusD4_",
        "outputId": "7a84052b-3a93-40df-8aaa-573d47b2a234"
      },
      "source": [
        "print (2/-3)\n",
        "print (7/-3/2)\n",
        "print (-10/-3%2)\n",
        "print (2%--3*7)\n",
        "print (2%-3)\n",
        "print (-10%7--3/2*5+5)\n",
        "print (9-2%(2+-3))\n",
        "print (-10//7)\n",
        "print ((2+-3)**2)\n",
        "print (7/2*2)"
      ],
      "execution_count": null,
      "outputs": [
        {
          "output_type": "stream",
          "name": "stdout",
          "text": [
            "-0.6666666666666666\n",
            "-1.1666666666666667\n",
            "1.3333333333333335\n",
            "14\n",
            "-1\n",
            "16.5\n",
            "9\n",
            "-2\n",
            "1\n",
            "7.0\n"
          ]
        }
      ]
    }
  ]
}