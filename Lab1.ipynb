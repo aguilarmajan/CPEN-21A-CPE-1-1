{
  "nbformat": 4,
  "nbformat_minor": 0,
  "metadata": {
    "colab": {
      "name": "Lab1.ipynb",
      "provenance": [],
      "authorship_tag": "ABX9TyMvO0dAULlyL78zloGLXTVE",
      "include_colab_link": true
    },
    "kernelspec": {
      "name": "python3",
      "display_name": "Python 3"
    },
    "language_info": {
      "name": "python"
    }
  },
  "cells": [
    {
      "cell_type": "markdown",
      "metadata": {
        "id": "view-in-github",
        "colab_type": "text"
      },
      "source": [
        "<a href=\"https://colab.research.google.com/github/aguilarmajan/CPEN-21A-CPE-1-1/blob/main/Lab1.ipynb\" target=\"_parent\"><img src=\"https://colab.research.google.com/assets/colab-badge.svg\" alt=\"Open In Colab\"/></a>"
      ]
    },
    {
      "cell_type": "markdown",
      "metadata": {
        "id": "KAyxaWFwVBgg"
      },
      "source": [
        "# Laboratory 1"
      ]
    },
    {
      "cell_type": "code",
      "metadata": {
        "colab": {
          "base_uri": "https://localhost:8080/"
        },
        "id": "KriPRRfwVIMY",
        "outputId": "e5a85966-8fb2-419c-a1b1-803baadf8e25"
      },
      "source": [
        "x = \"Welcome to \"\n",
        "y = \"Python Programming\"\n",
        "z = x + y\n",
        "print (z)\n"
      ],
      "execution_count": 10,
      "outputs": [
        {
          "output_type": "stream",
          "name": "stdout",
          "text": [
            "Welcome to Python Programming\n"
          ]
        }
      ]
    },
    {
      "cell_type": "code",
      "metadata": {
        "colab": {
          "base_uri": "https://localhost:8080/"
        },
        "id": "pL7pWH2TWA0P",
        "outputId": "06181253-8039-4f28-9593-8190ee0a3cad"
      },
      "source": [
        "Name,Address,Age = \"Aron Majan B. Aguilar\", \"Lalaan 2nd Silang, Cavite\",\"18\"\n",
        "print (Name)\n",
        "print (Address)\n",
        "print (Age)"
      ],
      "execution_count": 5,
      "outputs": [
        {
          "output_type": "stream",
          "name": "stdout",
          "text": [
            "Aron Majan B. Aguilar\n",
            "Lalaan 2nd Silang, Cavite\n",
            "18\n"
          ]
        }
      ]
    }
  ]
}