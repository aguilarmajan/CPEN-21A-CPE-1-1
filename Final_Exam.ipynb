{
  "nbformat": 4,
  "nbformat_minor": 0,
  "metadata": {
    "colab": {
      "name": "Final Exam.ipynb",
      "provenance": [],
      "authorship_tag": "ABX9TyPJoZnbVPzcKiXborPVVmvh",
      "include_colab_link": true
    },
    "kernelspec": {
      "name": "python3",
      "display_name": "Python 3"
    },
    "language_info": {
      "name": "python"
    }
  },
  "cells": [
    {
      "cell_type": "markdown",
      "metadata": {
        "id": "view-in-github",
        "colab_type": "text"
      },
      "source": [
        "<a href=\"https://colab.research.google.com/github/aguilarmajan/CPEN-21A-CPE-1-1/blob/main/Final_Exam.ipynb\" target=\"_parent\"><img src=\"https://colab.research.google.com/assets/colab-badge.svg\" alt=\"Open In Colab\"/></a>"
      ]
    },
    {
      "cell_type": "markdown",
      "source": [
        "**Final Exam**"
      ],
      "metadata": {
        "id": "5Crh5mPQf0ll"
      }
    },
    {
      "cell_type": "markdown",
      "source": [
        "**Problem Statement 1.**"
      ],
      "metadata": {
        "id": "LfqpsvdSgFFh"
      }
    },
    {
      "cell_type": "code",
      "source": [
        "numbers = [4,3,2,1,0,-1,-2,-3,-4,-5]\n",
        "sum = 0\n",
        "for x in numbers:\n",
        "  sum = + x\n",
        "print(x)"
      ],
      "metadata": {
        "colab": {
          "base_uri": "https://localhost:8080/"
        },
        "id": "O7KVygfCgIe7",
        "outputId": "918ea68d-dc74-472f-ad42-dbbcd0e7cd23"
      },
      "execution_count": 4,
      "outputs": [
        {
          "output_type": "stream",
          "name": "stdout",
          "text": [
            "-5\n"
          ]
        }
      ]
    },
    {
      "cell_type": "markdown",
      "source": [
        "**Problem Statement 2.**"
      ],
      "metadata": {
        "id": "0E4wv6iDgkQX"
      }
    },
    {
      "cell_type": "code",
      "source": [
        "i = 1\n",
        "empty_list = []\n",
        "\n",
        "while i <=5:\n",
        "  num = int(input(\"Enter a value: \"))\n",
        "  if i == 1:\n",
        "    first_number =num\n",
        "  if i == 5:\n",
        "    last_number =num\n",
        "  i+=1\n",
        "\n",
        "sum = (first_number + last_number)\n",
        "print(\"\\n\",sum)"
      ],
      "metadata": {
        "colab": {
          "base_uri": "https://localhost:8080/"
        },
        "id": "JV37nS3Hgn0t",
        "outputId": "c31fe35c-0ec1-49e1-a053-5d8b34f536ba"
      },
      "execution_count": 9,
      "outputs": [
        {
          "output_type": "stream",
          "name": "stdout",
          "text": [
            "Enter a value: 100\n",
            "Enter a value: 200\n",
            "Enter a value: 300\n",
            "Enter a value: 400\n",
            "Enter a value: 500\n",
            "\n",
            " 600\n"
          ]
        }
      ]
    },
    {
      "cell_type": "markdown",
      "source": [
        "**Problem Statement 3.**"
      ],
      "metadata": {
        "id": "ETPsj3NVhG1n"
      }
    },
    {
      "cell_type": "code",
      "source": [
        "n = int(input(\"Enter the grade: \"))\n",
        "if n>=90 and n<=100:\n",
        "  print(\"Grade: A\")\n",
        "elif n>=80 and n<=89:\n",
        "  print(\"Grade: B\")\n",
        "elif n>=70 and n<=79:\n",
        "  print(\"Grade: C\")\n",
        "elif n>=60 and n<=69:\n",
        "  print(\"Grade: D\")\n",
        "else:\n",
        "  print(\"Grade: F\")"
      ],
      "metadata": {
        "colab": {
          "base_uri": "https://localhost:8080/"
        },
        "id": "O_Kw3PWchKcv",
        "outputId": "10cdd316-e3fc-475c-e0a5-f67758157662"
      },
      "execution_count": 7,
      "outputs": [
        {
          "output_type": "stream",
          "name": "stdout",
          "text": [
            "Enter the grade: 95\n",
            "Grade: A\n"
          ]
        }
      ]
    }
  ]
}