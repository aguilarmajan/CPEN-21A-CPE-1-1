{
  "nbformat": 4,
  "nbformat_minor": 0,
  "metadata": {
    "colab": {
      "name": "Conditional Statement in Python.ipynb",
      "provenance": [],
      "authorship_tag": "ABX9TyOpQko5TB4FS48OQ/qPscZD",
      "include_colab_link": true
    },
    "kernelspec": {
      "name": "python3",
      "display_name": "Python 3"
    },
    "language_info": {
      "name": "python"
    }
  },
  "cells": [
    {
      "cell_type": "markdown",
      "metadata": {
        "id": "view-in-github",
        "colab_type": "text"
      },
      "source": [
        "<a href=\"https://colab.research.google.com/github/aguilarmajan/CPEN-21A-CPE-1-1/blob/main/Conditional_Statement_in_Python.ipynb\" target=\"_parent\"><img src=\"https://colab.research.google.com/assets/colab-badge.svg\" alt=\"Open In Colab\"/></a>"
      ]
    },
    {
      "cell_type": "markdown",
      "metadata": {
        "id": "SS6NVx0nGa1f"
      },
      "source": [
        "### **If Statement**"
      ]
    },
    {
      "cell_type": "code",
      "metadata": {
        "colab": {
          "base_uri": "https://localhost:8080/"
        },
        "id": "aJbHt0GfGfH-",
        "outputId": "6e0f8028-3472-43d9-f2ff-64bb19146c33"
      },
      "source": [
        "a = 12\n",
        "b = 100\n",
        "if b>a: \n",
        "  print(\"b is greater than a\")"
      ],
      "execution_count": 1,
      "outputs": [
        {
          "output_type": "stream",
          "name": "stdout",
          "text": [
            "b is greater than a\n"
          ]
        }
      ]
    },
    {
      "cell_type": "markdown",
      "metadata": {
        "id": "QxaQQGOVGszt"
      },
      "source": [
        "### **Elif Condition**"
      ]
    },
    {
      "cell_type": "code",
      "metadata": {
        "colab": {
          "base_uri": "https://localhost:8080/"
        },
        "id": "uOHswmdgGxvF",
        "outputId": "96e59f85-0c25-42d0-b9fa-969f80eb707c"
      },
      "source": [
        "a = 12\n",
        "b = 12\n",
        "if b>a:\n",
        "  print(\"b is greater than a\")\n",
        "elif a==b:\n",
        "    print(\"a is equal to b\")\n"
      ],
      "execution_count": 3,
      "outputs": [
        {
          "output_type": "stream",
          "name": "stdout",
          "text": [
            "a is equal to b\n"
          ]
        }
      ]
    },
    {
      "cell_type": "markdown",
      "metadata": {
        "id": "8Lh9He5_HJYY"
      },
      "source": [
        "### **Else Statement**"
      ]
    },
    {
      "cell_type": "code",
      "metadata": {
        "colab": {
          "base_uri": "https://localhost:8080/"
        },
        "id": "RJW5EUhBHVz1",
        "outputId": "6fd99b9a-d514-414b-b85b-2a522191f620"
      },
      "source": [
        "a = 120\n",
        "b = 12\n",
        "if b>a:\n",
        "  print(\"b is greater than a\")\n",
        "elif a==b:\n",
        "  print(\"a is equal to b\")\n",
        "else:\n",
        "  print(\"b is less than a\")"
      ],
      "execution_count": 5,
      "outputs": [
        {
          "output_type": "stream",
          "name": "stdout",
          "text": [
            "b is less than a\n"
          ]
        }
      ]
    },
    {
      "cell_type": "markdown",
      "metadata": {
        "id": "PcTG_ezGHz8j"
      },
      "source": [
        "### **Short Hand If Statement**"
      ]
    },
    {
      "cell_type": "code",
      "metadata": {
        "colab": {
          "base_uri": "https://localhost:8080/"
        },
        "id": "j-8OuwQDH-JG",
        "outputId": "0c755d8c-216a-4ac4-8280-498129894800"
      },
      "source": [
        "if a>b: \n",
        "  print (\"a is greater than b\")"
      ],
      "execution_count": 6,
      "outputs": [
        {
          "output_type": "stream",
          "name": "stdout",
          "text": [
            "a is greater than b\n"
          ]
        }
      ]
    },
    {
      "cell_type": "markdown",
      "metadata": {
        "id": "-MU290WgIIDY"
      },
      "source": [
        "### **Short Hand If... Else Statement**"
      ]
    },
    {
      "cell_type": "code",
      "metadata": {
        "colab": {
          "base_uri": "https://localhost:8080/"
        },
        "id": "XvKcue5WINsb",
        "outputId": "29489d21-49c6-4290-fb8b-7f4d36703936"
      },
      "source": [
        "print (\"a is greater than b\") if a>b else print(\"b is greater than a\")\n"
      ],
      "execution_count": 7,
      "outputs": [
        {
          "output_type": "stream",
          "name": "stdout",
          "text": [
            "a is greater than b\n"
          ]
        }
      ]
    },
    {
      "cell_type": "markdown",
      "metadata": {
        "id": "Nnh1qgEAIok8"
      },
      "source": [
        "### **And Condition**"
      ]
    },
    {
      "cell_type": "code",
      "metadata": {
        "colab": {
          "base_uri": "https://localhost:8080/"
        },
        "id": "DqyAIUi3Jcf4",
        "outputId": "86c9f0ae-2324-4f19-c132-25cf8ea41a1f"
      },
      "source": [
        "a = 13\n",
        "b = 36\n",
        "if b>a and a<b:\n",
        "  print(\"Both conditions are True\")"
      ],
      "execution_count": 8,
      "outputs": [
        {
          "output_type": "stream",
          "name": "stdout",
          "text": [
            "Both conditions are True\n"
          ]
        }
      ]
    },
    {
      "cell_type": "code",
      "metadata": {
        "colab": {
          "base_uri": "https://localhost:8080/"
        },
        "id": "e811Ex-2JyCp",
        "outputId": "d9370f81-21a9-44c7-a3c0-6e6b8054501c"
      },
      "source": [
        "a = 13\n",
        "b = 36\n",
        "if b>a and a<b:\n",
        "  print(\"Both conditions are True\")\n",
        "elif b<a and a>b:\n",
        "  print(\"a is larger than b\")\n",
        "else:\n",
        "  print(\"none of the above\")"
      ],
      "execution_count": 9,
      "outputs": [
        {
          "output_type": "stream",
          "name": "stdout",
          "text": [
            "Both conditions are True\n"
          ]
        }
      ]
    },
    {
      "cell_type": "markdown",
      "metadata": {
        "id": "buUBZBoyKKnU"
      },
      "source": [
        "### **Or Condtion**"
      ]
    },
    {
      "cell_type": "code",
      "metadata": {
        "colab": {
          "base_uri": "https://localhost:8080/"
        },
        "id": "zfEQUUuDKVif",
        "outputId": "46250baa-fbc1-43b7-8b94-7fe9c45ab89f"
      },
      "source": [
        "a = 13\n",
        "b = 36\n",
        "if b>a or a==b:\n",
        "  print(\"True\")\n",
        "elif b==b or a>b:\n",
        "  print(\"Absolutely True\")\n",
        "else:\n",
        "  print(\"Nothing to compare\")"
      ],
      "execution_count": 10,
      "outputs": [
        {
          "output_type": "stream",
          "name": "stdout",
          "text": [
            "True\n"
          ]
        }
      ]
    },
    {
      "cell_type": "code",
      "metadata": {
        "colab": {
          "base_uri": "https://localhost:8080/"
        },
        "id": "omrcIc_fKsjw",
        "outputId": "1dd0bc8b-a85b-40b3-ef9a-62b22ca579b3"
      },
      "source": [
        "a = 13\n",
        "b = 36\n",
        "if b==a or a>b:\n",
        "  print(\"True\")\n",
        "else:\n",
        "  print(\"False\")"
      ],
      "execution_count": 11,
      "outputs": [
        {
          "output_type": "stream",
          "name": "stdout",
          "text": [
            "False\n"
          ]
        }
      ]
    },
    {
      "cell_type": "markdown",
      "metadata": {
        "id": "DV0C9Dk4K3VY"
      },
      "source": [
        "### **Nested If**"
      ]
    },
    {
      "cell_type": "code",
      "metadata": {
        "colab": {
          "base_uri": "https://localhost:8080/"
        },
        "id": "GupxvAJDK9wq",
        "outputId": "fbee6ac3-129d-4e1e-a303-f820d84dd22d"
      },
      "source": [
        "x = 41\n",
        "if x>10:\n",
        "  print(\"Above 10\")\n",
        "  if x>20:\n",
        "    print(\"Above 20\")\n",
        "    if x>30:\n",
        "      print(\"Above 30\")\n",
        "    else: \n",
        "      print(\"Not above 30\")\n",
        "  else:\n",
        "    print(\"Not above 20\")\n",
        "else:\n",
        "  print(\"Not above 10\")\n",
        "\n"
      ],
      "execution_count": 12,
      "outputs": [
        {
          "output_type": "stream",
          "name": "stdout",
          "text": [
            "Above 10\n",
            "Above 20\n",
            "Above 30\n"
          ]
        }
      ]
    },
    {
      "cell_type": "markdown",
      "metadata": {
        "id": "VEmbRyjZLqXs"
      },
      "source": [
        "### **Application If... Else Statement**"
      ]
    },
    {
      "cell_type": "code",
      "metadata": {
        "colab": {
          "base_uri": "https://localhost:8080/"
        },
        "id": "hGqdelxdLwqs",
        "outputId": "d22776c4-6978-493b-da05-6c4c55532a20"
      },
      "source": [
        "#Example 1\n",
        "age = 18\n",
        "if age>=18:\n",
        "  print(\"You are qualified to vote!\")\n",
        "else:\n",
        "  print(\"You are not qualified to vote!\")"
      ],
      "execution_count": 13,
      "outputs": [
        {
          "output_type": "stream",
          "name": "stdout",
          "text": [
            "You are qualified to vote!\n"
          ]
        }
      ]
    },
    {
      "cell_type": "code",
      "metadata": {
        "colab": {
          "base_uri": "https://localhost:8080/"
        },
        "id": "je5g3amyMEP9",
        "outputId": "09a0b816-0122-4361-e854-f4a391f2f6dc"
      },
      "source": [
        "age = 17\n",
        "if age>=18:\n",
        "  print(\"You are qualified to vote!\")\n",
        "else:\n",
        "  print(\"You are not qualified to vote!\")\n"
      ],
      "execution_count": 14,
      "outputs": [
        {
          "output_type": "stream",
          "name": "stdout",
          "text": [
            "You are not qualified to vote!\n"
          ]
        }
      ]
    },
    {
      "cell_type": "code",
      "metadata": {
        "colab": {
          "base_uri": "https://localhost:8080/"
        },
        "id": "3T36n-y-MNPp",
        "outputId": "f5337c62-27c0-4fb2-d8df-c18397baef22"
      },
      "source": [
        "age = int(input(\"Enter your Age:\"))\n",
        "if age>=18:\n",
        "  print(\"You are qualified to vote!\")\n",
        "else: \n",
        "  print(\"You are not qualified to vote!\")"
      ],
      "execution_count": 16,
      "outputs": [
        {
          "output_type": "stream",
          "name": "stdout",
          "text": [
            "Enter your Age:15\n",
            "You are not qualified to vote!\n"
          ]
        }
      ]
    },
    {
      "cell_type": "code",
      "metadata": {
        "colab": {
          "base_uri": "https://localhost:8080/"
        },
        "id": "sjW53RULMdVd",
        "outputId": "08760dba-3cd6-4e4d-e003-cb7c2a595874"
      },
      "source": [
        "#Example 2 to check whether 0, negative or positive number\n",
        "number = int(input(\"Enter the number:\"))\n",
        "\n",
        "if number==0:\n",
        "  print(\"Zero\")\n",
        "elif number>0:\n",
        "  print(\"Positive\")\n",
        "else:\n",
        "  print(\"Negative\")"
      ],
      "execution_count": 17,
      "outputs": [
        {
          "output_type": "stream",
          "name": "stdout",
          "text": [
            "Enter the number:-2\n",
            "Negative\n"
          ]
        }
      ]
    },
    {
      "cell_type": "code",
      "metadata": {
        "colab": {
          "base_uri": "https://localhost:8080/"
        },
        "id": "2wkoophCMwdK",
        "outputId": "de6a6e34-05ee-4b8a-c762-d2d8754b2fb3"
      },
      "source": [
        "#Example 3\n",
        "grade = int(input(\"Enter your grade:\"))\n",
        "\n",
        "if grade>=75:\n",
        "  print(\"Passed\")\n",
        "elif grade==74:\n",
        "  print(\"Remedial\")\n",
        "else:\n",
        "  print(\"Failed\")"
      ],
      "execution_count": 18,
      "outputs": [
        {
          "output_type": "stream",
          "name": "stdout",
          "text": [
            "Enter your grade:94\n",
            "Passed\n"
          ]
        }
      ]
    }
  ]
}